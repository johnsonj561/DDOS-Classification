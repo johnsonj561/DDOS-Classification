{
 "cells": [
  {
   "cell_type": "code",
   "execution_count": 2,
   "metadata": {},
   "outputs": [],
   "source": [
    "import pandas as pd\n",
    "import numpy as np\n",
    "import seaborn as sns\n",
    "import matplotlib.pyplot as plt\n",
    "import os"
   ]
  },
  {
   "cell_type": "code",
   "execution_count": 3,
   "metadata": {},
   "outputs": [
    {
     "data": {
      "text/html": [
       "<div>\n",
       "<style scoped>\n",
       "    .dataframe tbody tr th:only-of-type {\n",
       "        vertical-align: middle;\n",
       "    }\n",
       "\n",
       "    .dataframe tbody tr th {\n",
       "        vertical-align: top;\n",
       "    }\n",
       "\n",
       "    .dataframe thead th {\n",
       "        text-align: right;\n",
       "    }\n",
       "</style>\n",
       "<table border=\"1\" class=\"dataframe\">\n",
       "  <thead>\n",
       "    <tr style=\"text-align: right;\">\n",
       "      <th></th>\n",
       "      <th>Unnamed: 0</th>\n",
       "      <th>minority_size</th>\n",
       "      <th>tp</th>\n",
       "      <th>fp</th>\n",
       "      <th>tn</th>\n",
       "      <th>fn</th>\n",
       "      <th>tpr</th>\n",
       "      <th>tnr</th>\n",
       "      <th>roc_auc</th>\n",
       "      <th>geometric_mean</th>\n",
       "      <th>arithmetic_mean</th>\n",
       "      <th>f1_score</th>\n",
       "      <th>precision</th>\n",
       "      <th>layers</th>\n",
       "      <th>method</th>\n",
       "      <th>method_name</th>\n",
       "    </tr>\n",
       "  </thead>\n",
       "  <tbody>\n",
       "    <tr>\n",
       "      <th>0</th>\n",
       "      <td>0</td>\n",
       "      <td>0.5</td>\n",
       "      <td>1317</td>\n",
       "      <td>5901</td>\n",
       "      <td>648144</td>\n",
       "      <td>12</td>\n",
       "      <td>0.990971</td>\n",
       "      <td>0.990978</td>\n",
       "      <td>0.998893</td>\n",
       "      <td>0.990974</td>\n",
       "      <td>0.990974</td>\n",
       "      <td>0.308178</td>\n",
       "      <td>0.182461</td>\n",
       "      <td>2</td>\n",
       "      <td>rus</td>\n",
       "      <td>rus_0pt00203_d2</td>\n",
       "    </tr>\n",
       "    <tr>\n",
       "      <th>1</th>\n",
       "      <td>1</td>\n",
       "      <td>0.5</td>\n",
       "      <td>1317</td>\n",
       "      <td>6013</td>\n",
       "      <td>648032</td>\n",
       "      <td>12</td>\n",
       "      <td>0.990971</td>\n",
       "      <td>0.990806</td>\n",
       "      <td>0.999005</td>\n",
       "      <td>0.990889</td>\n",
       "      <td>0.990889</td>\n",
       "      <td>0.304192</td>\n",
       "      <td>0.179673</td>\n",
       "      <td>2</td>\n",
       "      <td>rus</td>\n",
       "      <td>rus_0pt00203_d2</td>\n",
       "    </tr>\n",
       "    <tr>\n",
       "      <th>2</th>\n",
       "      <td>2</td>\n",
       "      <td>0.5</td>\n",
       "      <td>1317</td>\n",
       "      <td>7107</td>\n",
       "      <td>646938</td>\n",
       "      <td>12</td>\n",
       "      <td>0.990971</td>\n",
       "      <td>0.989134</td>\n",
       "      <td>0.998868</td>\n",
       "      <td>0.990052</td>\n",
       "      <td>0.990052</td>\n",
       "      <td>0.270071</td>\n",
       "      <td>0.156339</td>\n",
       "      <td>2</td>\n",
       "      <td>rus</td>\n",
       "      <td>rus_0pt00203_d2</td>\n",
       "    </tr>\n",
       "    <tr>\n",
       "      <th>3</th>\n",
       "      <td>3</td>\n",
       "      <td>0.5</td>\n",
       "      <td>1317</td>\n",
       "      <td>6780</td>\n",
       "      <td>647265</td>\n",
       "      <td>12</td>\n",
       "      <td>0.990971</td>\n",
       "      <td>0.989634</td>\n",
       "      <td>0.998906</td>\n",
       "      <td>0.990302</td>\n",
       "      <td>0.990302</td>\n",
       "      <td>0.279440</td>\n",
       "      <td>0.162653</td>\n",
       "      <td>2</td>\n",
       "      <td>rus</td>\n",
       "      <td>rus_0pt00203_d2</td>\n",
       "    </tr>\n",
       "    <tr>\n",
       "      <th>4</th>\n",
       "      <td>4</td>\n",
       "      <td>0.5</td>\n",
       "      <td>1317</td>\n",
       "      <td>8598</td>\n",
       "      <td>645447</td>\n",
       "      <td>12</td>\n",
       "      <td>0.990971</td>\n",
       "      <td>0.986854</td>\n",
       "      <td>0.998819</td>\n",
       "      <td>0.988910</td>\n",
       "      <td>0.988912</td>\n",
       "      <td>0.234258</td>\n",
       "      <td>0.132829</td>\n",
       "      <td>2</td>\n",
       "      <td>rus</td>\n",
       "      <td>rus_0pt00203_d2</td>\n",
       "    </tr>\n",
       "  </tbody>\n",
       "</table>\n",
       "</div>"
      ],
      "text/plain": [
       "   Unnamed: 0  minority_size    tp    fp      tn  fn       tpr       tnr  \\\n",
       "0           0            0.5  1317  5901  648144  12  0.990971  0.990978   \n",
       "1           1            0.5  1317  6013  648032  12  0.990971  0.990806   \n",
       "2           2            0.5  1317  7107  646938  12  0.990971  0.989134   \n",
       "3           3            0.5  1317  6780  647265  12  0.990971  0.989634   \n",
       "4           4            0.5  1317  8598  645447  12  0.990971  0.986854   \n",
       "\n",
       "    roc_auc  geometric_mean  arithmetic_mean  f1_score  precision  layers  \\\n",
       "0  0.998893        0.990974         0.990974  0.308178   0.182461       2   \n",
       "1  0.999005        0.990889         0.990889  0.304192   0.179673       2   \n",
       "2  0.998868        0.990052         0.990052  0.270071   0.156339       2   \n",
       "3  0.998906        0.990302         0.990302  0.279440   0.162653       2   \n",
       "4  0.998819        0.988910         0.988912  0.234258   0.132829       2   \n",
       "\n",
       "  method      method_name  \n",
       "0    rus  rus_0pt00203_d2  \n",
       "1    rus  rus_0pt00203_d2  \n",
       "2    rus  rus_0pt00203_d2  \n",
       "3    rus  rus_0pt00203_d2  \n",
       "4    rus  rus_0pt00203_d2  "
      ]
     },
     "execution_count": 3,
     "metadata": {},
     "output_type": "execute_result"
    }
   ],
   "source": [
    "results = pd.read_csv('./all-raw-optimal-results.csv')\n",
    "results.head()"
   ]
  },
  {
   "cell_type": "code",
   "execution_count": 4,
   "metadata": {},
   "outputs": [],
   "source": [
    "d2_results = results.loc[results['layers'] == 2]"
   ]
  },
  {
   "cell_type": "code",
   "execution_count": 5,
   "metadata": {},
   "outputs": [
    {
     "data": {
      "text/plain": [
       "(527, 16)"
      ]
     },
     "execution_count": 5,
     "metadata": {},
     "output_type": "execute_result"
    }
   ],
   "source": [
    "d2_results.shape"
   ]
  },
  {
   "cell_type": "code",
   "execution_count": 6,
   "metadata": {},
   "outputs": [],
   "source": [
    "minority_sizes = [\n",
    "    0.00025, 0.0005, 0.001, 0.0025, 0.005, 0.0075, 0.01, 0.05, 0.1, 0.2, 0.3, 0.4, 0.5, 0.6, 0.7, 0.8, 0.9\n",
    "]\n",
    "minority_sizes = [round(size, 5) for size in minority_sizes]"
   ]
  },
  {
   "cell_type": "code",
   "execution_count": 15,
   "metadata": {},
   "outputs": [],
   "source": [
    "plt.style.use(['seaborn-paper', 'ggplot', 'seaborn-whitegrid'])"
   ]
  },
  {
   "cell_type": "code",
   "execution_count": 16,
   "metadata": {},
   "outputs": [
    {
     "name": "stderr",
     "output_type": "stream",
     "text": [
      "/Users/jujohnson/anaconda3/envs/tf.latest/lib/python3.6/site-packages/ipykernel_launcher.py:1: SettingWithCopyWarning: \n",
      "A value is trying to be set on a copy of a slice from a DataFrame\n",
      "\n",
      "See the caveats in the documentation: http://pandas.pydata.org/pandas-docs/stable/user_guide/indexing.html#returning-a-view-versus-a-copy\n",
      "  \"\"\"Entry point for launching an IPython kernel.\n"
     ]
    }
   ],
   "source": [
    "d2_results.sort_values(by='minority_size', inplace=True)"
   ]
  },
  {
   "cell_type": "code",
   "execution_count": 19,
   "metadata": {},
   "outputs": [
    {
     "data": {
      "text/plain": [
       "Text(0, 0.5, 'Mean ROC AUC')"
      ]
     },
     "execution_count": 19,
     "metadata": {},
     "output_type": "execute_result"
    },
    {
     "data": {
      "image/png": "[encoded data removed]",
      "text/plain": [
       "<Figure size 460.8x316.8 with 1 Axes>"
      ]
     },
     "metadata": {},
     "output_type": "display_data"
    }
   ],
   "source": [
    "ax = sns.boxplot(data=d2_results, width=.8, x='minority_size', y='roc_auc', dodge=False, color='#1f77b4');\n",
    "ax.set_xticklabels(ax.get_xticklabels(), rotation=45);\n",
    "plt.title('CMS Part D RUS Results')\n",
    "plt.xlabel('Minority Class Size')\n",
    "plt.ylabel('Mean ROC AUC')\n",
    "\n",
    "# iterate over boxes\n",
    "# for i,box in enumerate(ax.artists):\n",
    "#     box.set_edgecolor('black')\n",
    "#     box.set_facecolor('white')\n",
    "\n",
    "#     # iterate over whiskers and median lines\n",
    "#     for j in range(6*i,6*(i+1)):\n",
    "#          ax.lines[j].set_color('black')"
   ]
  },
  {
   "cell_type": "code",
   "execution_count": 13,
   "metadata": {},
   "outputs": [
    {
     "data": {
      "text/plain": [
       "['#1f77b4',\n",
       " '#ff7f0e',\n",
       " '#2ca02c',\n",
       " '#d62728',\n",
       " '#9467bd',\n",
       " '#8c564b',\n",
       " '#e377c2',\n",
       " '#7f7f7f',\n",
       " '#bcbd22',\n",
       " '#17becf']"
      ]
     },
     "execution_count": 13,
     "metadata": {},
     "output_type": "execute_result"
    }
   ],
   "source": [
    "colors = plt.rcParams['axes.prop_cycle'].by_key()['color']                       \n",
    "colors"
   ]
  },
  {
   "cell_type": "code",
   "execution_count": 10,
   "metadata": {},
   "outputs": [
    {
     "data": {
      "text/plain": [
       "Text(0, 0.5, 'Mean ROC AUC')"
      ]
     },
     "execution_count": 10,
     "metadata": {},
     "output_type": "execute_result"
    },
    {
     "data": {
      "image/png": "[encoded data removed]",
      "text/plain": [
       "<Figure size 921.6x633.6 with 1 Axes>"
      ]
     },
     "metadata": {
      "needs_background": "light"
     },
     "output_type": "display_data"
    }
   ],
   "source": [
    "sns.lineplot(data=d2_results, x='minority_size', y='roc_auc')\n",
    "plt.xlabel('Minority Class Size')\n",
    "plt.ylabel('Mean ROC AUC')\n",
    "# plt.xscale('log')"
   ]
  },
  {
   "cell_type": "code",
   "execution_count": null,
   "metadata": {},
   "outputs": [],
   "source": []
  },
  {
   "cell_type": "code",
   "execution_count": null,
   "metadata": {},
   "outputs": [],
   "source": []
  }
 ],
 "metadata": {
  "kernelspec": {
   "display_name": "Python 3",
   "language": "python",
   "name": "python3"
  },
  "language_info": {
   "codemirror_mode": {
    "name": "ipython",
    "version": 3
   },
   "file_extension": ".py",
   "mimetype": "text/x-python",
   "name": "python",
   "nbconvert_exporter": "python",
   "pygments_lexer": "ipython3",
   "version": "3.6.9"
  }
 },
 "nbformat": 4,
 "nbformat_minor": 4
}
