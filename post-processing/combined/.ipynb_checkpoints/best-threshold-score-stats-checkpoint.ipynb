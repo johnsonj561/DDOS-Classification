{
 "cells": [
  {
   "cell_type": "code",
   "execution_count": 1,
   "metadata": {},
   "outputs": [],
   "source": [
    "import pandas as pd\n",
    "import numpy as np\n",
    "import os\n",
    "import sys\n",
    "sys.path.append(os.environ['CMS_ROOT'])\n",
    "from cms_modules.utils import dict_from_hdf5\n",
    "pd.set_option('display.max_columns', 150)\n",
    "pd.set_option('display.max_rows', 150)"
   ]
  },
  {
   "cell_type": "code",
   "execution_count": null,
   "metadata": {},
   "outputs": [],
   "source": []
  },
  {
   "cell_type": "code",
   "execution_count": 16,
   "metadata": {},
   "outputs": [
    {
     "name": "stdout",
     "output_type": "stream",
     "text": [
      "ros-rus-learner.py  \u001b[34mrus_0pt0002_d2\u001b[m\u001b[m/     \u001b[34mrus_0pt004_d2\u001b[m\u001b[m/      \u001b[34mrus_0pt4_d2\u001b[m\u001b[m/\n",
      "\u001b[34mros_0pt0246_d2\u001b[m\u001b[m/     \u001b[34mrus_0pt0005_d2\u001b[m\u001b[m/     \u001b[34mrus_0pt008_d2\u001b[m\u001b[m/      \u001b[34mrus_0pt8_d2\u001b[m\u001b[m/\n",
      "\u001b[34mros_0pt0492_d2\u001b[m\u001b[m/     \u001b[34mrus_0pt0008_d2\u001b[m\u001b[m/     \u001b[34mrus_0pt018_d2\u001b[m\u001b[m/      \u001b[34mrus_20_d2\u001b[m\u001b[m/\n",
      "\u001b[34mros_0pt123_d2\u001b[m\u001b[m/      \u001b[34mrus_0pt001_d2\u001b[m\u001b[m/      \u001b[34mrus_0pt038_d2\u001b[m\u001b[m/      \u001b[34mrus_2_d2\u001b[m\u001b[m/\n",
      "\u001b[34mros_0pt246_d2\u001b[m\u001b[m/      \u001b[34mrus_0pt002_d2\u001b[m\u001b[m/      \u001b[34mrus_0pt20_d2\u001b[m\u001b[m/       \u001b[34mrus_4_d2\u001b[m\u001b[m/\n",
      "\u001b[34mros_0pt4925_d2\u001b[m\u001b[m/     \u001b[34mrus_0pt003_d2\u001b[m\u001b[m/      \u001b[34mrus_0pt26_d2\u001b[m\u001b[m/       \u001b[34mrus_8_d2\u001b[m\u001b[m/\n"
     ]
    }
   ],
   "source": [
    "%ls ../../combined-experiments/data-methods/validation"
   ]
  },
  {
   "cell_type": "code",
   "execution_count": 12,
   "metadata": {},
   "outputs": [],
   "source": [
    "# get list of paths to methods to calculat stats on\n",
    "# data_path = '../../partD-experiments/baselines/validation/'\n",
    "data_path = '../../combined-experiments/data-methods/validation/'\n",
    "method_dirs = [os.path.join(data_path, x) for x in os.listdir(data_path) if os.path.isdir(os.path.join(data_path, x)) and '.ipynb' not in x]\n",
    "thresholds_file = 'thresholds.csv'\n",
    "valid_metrics = 'valid_metrics.hdf5'\n",
    "\n",
    "# define output path/metrics to score/epoch to use for roc_auc\n",
    "output_file = 'best_threshold_stats.csv'\n",
    "epoch_to_eval = 99"
   ]
  },
  {
   "cell_type": "markdown",
   "metadata": {},
   "source": [
    "### Helper Functions to Create CSV of Stats"
   ]
  },
  {
   "cell_type": "code",
   "execution_count": 17,
   "metadata": {},
   "outputs": [],
   "source": [
    "metrics = ['threshold', 'roc_auc', 'tpr', 'tnr', 'geometric_mean', 'arithmetic_mean']\n",
    "measures = ['mean', 'std', 'min', '25%', '75%', 'max']\n",
    "columns = [(metric + \"_\" + measure) for metric in metrics for measure in measures]\n",
    "\n",
    "# create a dataframe containing all runs for a given method\n",
    "# calculate the statistics for that method\n",
    "# return results in comma separated list\n",
    "def get_stats_for_method_runs(method_path):\n",
    "    data = { key: [] for key in metrics }\n",
    "    method_results_path = os.path.join(method_path, 'results')\n",
    "    runs = os.listdir(method_results_path)\n",
    "    if len(runs) < 10:\n",
    "        print('method_results_path', method_results_path, len(runs))\n",
    "#         return \"\"\n",
    "    for run in runs:\n",
    "        thresholds = pd.read_csv(os.path.join(method_results_path, run, thresholds_file))\n",
    "        subset = thresholds.loc[thresholds['tpr'] > thresholds['tnr']]\n",
    "        max_gmean_row = subset.iloc[subset['geometric_mean'].argmax()]\n",
    "        for key, value in max_gmean_row.items():\n",
    "            data[key].append(value)\n",
    "        valid_results = dict_from_hdf5(os.path.join(method_results_path, run, valid_metrics))\n",
    "        data['roc_auc'].append(valid_results['roc_auc'][epoch_to_eval])\n",
    "    stats = pd.DataFrame(data).describe()\n",
    "    print(method_results_path, '\\n', stats)\n",
    "    result = [method_path]\n",
    "    for metric in metrics:\n",
    "        for measure in measures:\n",
    "            result.append(str(round(stats[metric][measure], 5)))\n",
    "    return ','.join(result) + '\\n'\n",
    "\n",
    "# return comma separated list of column titles\n",
    "def get_stats_header():\n",
    "    return \",\".join(columns) + \"\\n\""
   ]
  },
  {
   "cell_type": "markdown",
   "metadata": {},
   "source": [
    "### Calculate Stats"
   ]
  },
  {
   "cell_type": "code",
   "execution_count": 18,
   "metadata": {},
   "outputs": [
    {
     "name": "stderr",
     "output_type": "stream",
     "text": [
      "/Users/jujohnson/anaconda3/envs/tf.latest/lib/python3.6/site-packages/ipykernel_launcher.py:20: FutureWarning: \n",
      "The current behaviour of 'Series.argmax' is deprecated, use 'idxmax'\n",
      "instead.\n",
      "The behavior of 'argmax' will be corrected to return the positional\n",
      "maximum in the future. For now, use 'series.values.argmax' or\n",
      "'np.argmax(np.array(values))' to get the position of the maximum\n",
      "row.\n"
     ]
    },
    {
     "name": "stdout",
     "output_type": "stream",
     "text": [
      "../../combined-experiments/data-methods/validation/rus_0pt001_d2/results \n",
      "        threshold    roc_auc        tpr        tnr  geometric_mean  \\\n",
      "count  10.000000  10.000000  10.000000  10.000000       10.000000   \n",
      "mean    0.360900   0.998098   0.989472   0.987536        0.988505   \n",
      "std     0.203259   0.000628   0.005029   0.004184        0.004539   \n",
      "min     0.113000   0.996944   0.981200   0.980360        0.980780   \n",
      "25%     0.139250   0.997668   0.986840   0.985272        0.986670   \n",
      "50%     0.435500   0.998210   0.989660   0.986945        0.987845   \n",
      "75%     0.540000   0.998562   0.993890   0.991525        0.992845   \n",
      "max     0.586000   0.998968   0.996240   0.992450        0.993800   \n",
      "\n",
      "       arithmetic_mean  \n",
      "count        10.000000  \n",
      "mean          0.988505  \n",
      "std           0.004539  \n",
      "min           0.980780  \n",
      "25%           0.986670  \n",
      "50%           0.987845  \n",
      "75%           0.992845  \n",
      "max           0.993800  \n",
      "method_results_path ../../combined-experiments/data-methods/validation/rus_4_d2/results 8\n",
      "../../combined-experiments/data-methods/validation/rus_4_d2/results \n",
      "        threshold   roc_auc      tpr       tnr  geometric_mean  arithmetic_mean\n",
      "count   8.000000  8.000000  8.00000  8.000000        8.000000         8.000000\n",
      "mean    0.003112  0.985634  0.98449  0.530668        0.678059         0.757580\n",
      "std     0.008723  0.002408  0.00821  0.340113        0.263147         0.166570\n",
      "min     0.000000  0.982317  0.97368  0.038540        0.196120         0.518330\n",
      "25%     0.000000  0.984009  0.97885  0.318887        0.559798         0.652868\n",
      "50%     0.000000  0.985196  0.98308  0.457930        0.669950         0.720505\n",
      "75%     0.000050  0.987313  0.98966  0.807403        0.887212         0.892660\n",
      "max     0.024700  0.989165  0.99812  0.979260        0.980230         0.980230\n"
     ]
    },
    {
     "ename": "TypeError",
     "evalue": "must be str, not NoneType",
     "output_type": "error",
     "traceback": [
      "\u001b[0;31m---------------------------------------------------------------------------\u001b[0m",
      "\u001b[0;31mTypeError\u001b[0m                                 Traceback (most recent call last)",
      "\u001b[0;32m<ipython-input-18-a1d3d22955d6>\u001b[0m in \u001b[0;36m<module>\u001b[0;34m\u001b[0m\n\u001b[1;32m      4\u001b[0m \u001b[0;31m# get statistics for each method\u001b[0m\u001b[0;34m\u001b[0m\u001b[0;34m\u001b[0m\u001b[0;34m\u001b[0m\u001b[0m\n\u001b[1;32m      5\u001b[0m \u001b[0;32mfor\u001b[0m \u001b[0mmethod\u001b[0m \u001b[0;32min\u001b[0m \u001b[0mmethod_dirs\u001b[0m\u001b[0;34m:\u001b[0m\u001b[0;34m\u001b[0m\u001b[0;34m\u001b[0m\u001b[0m\n\u001b[0;32m----> 6\u001b[0;31m     \u001b[0mcsv_out\u001b[0m \u001b[0;34m+=\u001b[0m \u001b[0mget_stats_for_method_runs\u001b[0m\u001b[0;34m(\u001b[0m\u001b[0mmethod\u001b[0m\u001b[0;34m)\u001b[0m\u001b[0;34m\u001b[0m\u001b[0;34m\u001b[0m\u001b[0m\n\u001b[0m\u001b[1;32m      7\u001b[0m \u001b[0;34m\u001b[0m\u001b[0m\n\u001b[1;32m      8\u001b[0m \u001b[0;31m# write to csv file\u001b[0m\u001b[0;34m\u001b[0m\u001b[0;34m\u001b[0m\u001b[0;34m\u001b[0m\u001b[0m\n",
      "\u001b[0;31mTypeError\u001b[0m: must be str, not NoneType"
     ]
    }
   ],
   "source": [
    "# create header columns\n",
    "csv_out = \"method,\" + get_stats_header()\n",
    "\n",
    "# get statistics for each method\n",
    "for method in method_dirs:\n",
    "    csv_out += get_stats_for_method_runs(method)\n",
    "\n",
    "# write to csv file\n",
    "with open(output_file, 'w') as f:\n",
    "    f.write(csv_out)"
   ]
  },
  {
   "cell_type": "markdown",
   "metadata": {},
   "source": [
    "### View Results"
   ]
  },
  {
   "cell_type": "code",
   "execution_count": null,
   "metadata": {},
   "outputs": [],
   "source": [
    "pd.read_csv(output_file)"
   ]
  },
  {
   "cell_type": "code",
   "execution_count": null,
   "metadata": {},
   "outputs": [],
   "source": []
  },
  {
   "cell_type": "code",
   "execution_count": null,
   "metadata": {},
   "outputs": [],
   "source": []
  }
 ],
 "metadata": {
  "kernelspec": {
   "display_name": "Python 3",
   "language": "python",
   "name": "python3"
  },
  "language_info": {
   "codemirror_mode": {
    "name": "ipython",
    "version": 3
   },
   "file_extension": ".py",
   "mimetype": "text/x-python",
   "name": "python",
   "nbconvert_exporter": "python",
   "pygments_lexer": "ipython3",
   "version": "3.6.9"
  }
 },
 "nbformat": 4,
 "nbformat_minor": 4
}
