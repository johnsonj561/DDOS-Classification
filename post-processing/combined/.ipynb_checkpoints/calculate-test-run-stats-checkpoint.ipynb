{
 "cells": [
  {
   "cell_type": "code",
   "execution_count": 19,
   "metadata": {},
   "outputs": [],
   "source": [
    "import os\n",
    "import re\n",
    "import sys\n",
    "import numpy as np\n",
    "import pandas as pd"
   ]
  },
  {
   "cell_type": "code",
   "execution_count": 20,
   "metadata": {},
   "outputs": [
    {
     "name": "stdout",
     "output_type": "stream",
     "text": [
      "ros-rus-learner-test.py  \u001b[34mrus_0pt00305_d2\u001b[m\u001b[m/         \u001b[34mrus_0pt2_d2\u001b[m\u001b[m/\n",
      "\u001b[34mrus_0pt00022_d2\u001b[m\u001b[m/         \u001b[34mrus_0pt0047_d2\u001b[m\u001b[m/          \u001b[34mrus_0pt4044_d2\u001b[m\u001b[m/\n",
      "\u001b[34mrus_0pt00051_d2\u001b[m\u001b[m/         \u001b[34mrus_0pt0081_d2\u001b[m\u001b[m/          \u001b[34mrus_0pt8109_d2\u001b[m\u001b[m/\n",
      "\u001b[34mrus_0pt00087_d2\u001b[m\u001b[m/         \u001b[34mrus_0pt0183_d2\u001b[m\u001b[m/          \u001b[34mrus_2_d2\u001b[m\u001b[m/\n",
      "\u001b[34mrus_0pt00135_d2\u001b[m\u001b[m/         \u001b[34mrus_0pt0386_d2\u001b[m\u001b[m/          \u001b[34mrus_4_d2\u001b[m\u001b[m/\n",
      "\u001b[34mrus_0pt00203_d2\u001b[m\u001b[m/         \u001b[34mrus_0pt2689_d2\u001b[m\u001b[m/          \u001b[34mrus_8_d2\u001b[m\u001b[m/\n"
     ]
    }
   ],
   "source": [
    "%ls ../../combined-experiments/data-methods/tests/"
   ]
  },
  {
   "cell_type": "code",
   "execution_count": 21,
   "metadata": {},
   "outputs": [],
   "source": [
    "root_dir = '../../combined-experiments/baselines/tests/'\n",
    "output_file = 'default-threshold-test-results.csv'\n",
    "results_file= 'default-results.csv'"
   ]
  },
  {
   "cell_type": "markdown",
   "metadata": {},
   "source": [
    "### Helpers"
   ]
  },
  {
   "cell_type": "code",
   "execution_count": 22,
   "metadata": {},
   "outputs": [],
   "source": [
    "def has_completed(path):\n",
    "    return 'complete.txt' in os.listdir(path)\n",
    "\n",
    "def is_method_dir(path):\n",
    "    return os.path.isdir(path) and 'ipynb' not in path"
   ]
  },
  {
   "cell_type": "code",
   "execution_count": 23,
   "metadata": {},
   "outputs": [],
   "source": [
    "metrics = ['minority_size', 'roc_auc', 'tpr', 'tnr', 'geometric_mean', 'arithmetic_mean']\n",
    "measures = ['mean', 'std', 'min', '25%', '75%', 'max']\n",
    "columns = [(metric + \"_\" + measure) for metric in metrics for measure in measures]\n",
    "\n",
    "def get_stats_for_method(results_path):\n",
    "    data = { key: [] for key in metrics }\n",
    "    stats = pd.read_csv(results_path).describe()\n",
    "    print(results_path, '\\n', stats)\n",
    "    result = [results_path]\n",
    "    for metric in metrics:\n",
    "        for measure in measures:\n",
    "            result.append(str(round(stats[metric][measure], 4)))\n",
    "    return ','.join(result) + '\\n'\n",
    "\n",
    "# return comma separated list of column titles\n",
    "def get_stats_header():\n",
    "    return 'method,' + \",\".join(columns) + \"\\n\""
   ]
  },
  {
   "cell_type": "markdown",
   "metadata": {},
   "source": [
    "### Calculate Stats and Write to CSV"
   ]
  },
  {
   "cell_type": "code",
   "execution_count": 24,
   "metadata": {},
   "outputs": [
    {
     "name": "stdout",
     "output_type": "stream",
     "text": [
      "../../combined-experiments/baselines/tests/d4_w32/default-results.csv \n",
      "        minority_size           tp          fp             tn          fn  \\\n",
      "count   3.000000e+01    30.000000   30.000000      30.000000   30.000000   \n",
      "mean    2.028000e-03  1172.500000  618.200000  653426.800000  156.500000   \n",
      "std     4.410948e-19   245.915285  345.338954     345.338954  245.915285   \n",
      "min     2.028000e-03   735.000000    0.000000  653174.000000   19.000000   \n",
      "25%     2.028000e-03  1246.000000  765.250000  653229.250000   19.000000   \n",
      "50%     2.028000e-03  1310.000000  788.500000  653256.500000   19.000000   \n",
      "75%     2.028000e-03  1310.000000  815.750000  653279.750000   83.000000   \n",
      "max     2.028000e-03  1310.000000  871.000000  654045.000000  594.000000   \n",
      "\n",
      "             tpr        tnr    roc_auc  geometric_mean  arithmetic_mean  \\\n",
      "count  30.000000  30.000000  30.000000       30.000000        30.000000   \n",
      "mean    0.882243   0.999055   0.992947        0.932942         0.940649   \n",
      "std     0.185038   0.000528   0.003608        0.106349         0.092256   \n",
      "min     0.553047   0.998668   0.987643        0.743666         0.776517   \n",
      "25%     0.937547   0.998753   0.990406        0.967658         0.968188   \n",
      "50%     0.985704   0.998795   0.992095        0.992199         0.992221   \n",
      "75%     0.985704   0.998830   0.993648        0.992225         0.992246   \n",
      "max     0.985704   1.000000   0.999335        0.992233         0.992255   \n",
      "\n",
      "        f1_score  precision  \n",
      "count  30.000000  30.000000  \n",
      "mean    0.747875   0.706304  \n",
      "std     0.021670   0.161693  \n",
      "min     0.709117   0.600642  \n",
      "25%     0.742399   0.615792  \n",
      "50%     0.757116   0.623661  \n",
      "75%     0.763570   0.626495  \n",
      "max     0.766082   1.000000  \n",
      "../../combined-experiments/baselines/tests/d2_w32/default-results.csv \n",
      "        minority_size           tp          fp             tn          fn  \\\n",
      "count   3.000000e+01    30.000000   30.000000      30.000000   30.000000   \n",
      "mean    2.028000e-03   834.566667  121.133333  653923.866667  494.433333   \n",
      "std     4.410948e-19   163.969232  207.467444     207.467444  163.969232   \n",
      "min     2.028000e-03   735.000000    0.000000  653326.000000   75.000000   \n",
      "25%     2.028000e-03   735.000000    1.000000  653822.250000  388.250000   \n",
      "50%     2.028000e-03   735.000000    3.000000  654042.000000  594.000000   \n",
      "75%     2.028000e-03   940.750000  222.750000  654044.000000  594.000000   \n",
      "max     2.028000e-03  1254.000000  719.000000  654045.000000  594.000000   \n",
      "\n",
      "             tpr        tnr    roc_auc  geometric_mean  arithmetic_mean  \\\n",
      "count  30.000000  30.000000  30.000000       30.000000        30.000000   \n",
      "mean    0.627966   0.999815   0.996134        0.789013         0.813890   \n",
      "std     0.123378   0.000317   0.003243        0.073836         0.061532   \n",
      "min     0.553047   0.998901   0.990142        0.743667         0.776518   \n",
      "25%     0.553047   0.999660   0.993111        0.743671         0.776523   \n",
      "50%     0.553047   0.999995   0.997572        0.743672         0.776524   \n",
      "75%     0.707863   0.999998   0.999184        0.840740         0.853761   \n",
      "max     0.943567   1.000000   0.999428        0.970839         0.971234   \n",
      "\n",
      "        f1_score  precision  \n",
      "count  30.000000  30.000000  \n",
      "mean    0.727216   0.920020  \n",
      "std     0.024441   0.126319  \n",
      "min     0.709459   0.635580  \n",
      "25%     0.711864   0.814069  \n",
      "50%     0.712209   0.996064  \n",
      "75%     0.740946   0.998641  \n",
      "max     0.781736   1.000000  \n"
     ]
    }
   ],
   "source": [
    "# create header columns\n",
    "csv_out = get_stats_header()\n",
    "\n",
    "# get statistics for each method\n",
    "method_dirs = os.listdir(root_dir)\n",
    "for method in method_dirs:\n",
    "    path = os.path.join(root_dir, method)\n",
    "    if is_method_dir(path) and has_completed(path):\n",
    "        csv_out += get_stats_for_method(os.path.join(path, results_file))\n",
    "\n",
    "# write to csv file\n",
    "with open(output_file, 'w') as f:\n",
    "    f.write(csv_out)"
   ]
  },
  {
   "cell_type": "code",
   "execution_count": null,
   "metadata": {},
   "outputs": [],
   "source": []
  },
  {
   "cell_type": "code",
   "execution_count": null,
   "metadata": {},
   "outputs": [],
   "source": []
  },
  {
   "cell_type": "code",
   "execution_count": null,
   "metadata": {},
   "outputs": [],
   "source": []
  },
  {
   "cell_type": "code",
   "execution_count": null,
   "metadata": {},
   "outputs": [],
   "source": []
  },
  {
   "cell_type": "code",
   "execution_count": null,
   "metadata": {},
   "outputs": [],
   "source": []
  }
 ],
 "metadata": {
  "kernelspec": {
   "display_name": "Python 3",
   "language": "python",
   "name": "python3"
  },
  "language_info": {
   "codemirror_mode": {
    "name": "ipython",
    "version": 3
   },
   "file_extension": ".py",
   "mimetype": "text/x-python",
   "name": "python",
   "nbconvert_exporter": "python",
   "pygments_lexer": "ipython3",
   "version": "3.6.9"
  }
 },
 "nbformat": 4,
 "nbformat_minor": 4
}
