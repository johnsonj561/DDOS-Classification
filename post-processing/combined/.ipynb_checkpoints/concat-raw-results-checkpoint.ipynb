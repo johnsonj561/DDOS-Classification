{
 "cells": [
  {
   "cell_type": "code",
   "execution_count": 1,
   "metadata": {},
   "outputs": [],
   "source": [
    "import pandas as pd\n",
    "import numpy as np\n",
    "import os\n",
    "import sys"
   ]
  },
  {
   "cell_type": "markdown",
   "metadata": {},
   "source": [
    "### Concatenate All Raw Results"
   ]
  },
  {
   "cell_type": "code",
   "execution_count": 2,
   "metadata": {},
   "outputs": [],
   "source": [
    "sampling_dir = '/Users/jujohnson/git/DDOS-Classification/combined-experiments/data-methods/tests'\n",
    "baselines_dir = '/Users/jujohnson/git/DDOS-Classification/combined-experiments/baselines/tests/'\n",
    "results_file = 'optimal-results.csv'\n",
    "output_file = 'all-raw-optimal-results.csv'"
   ]
  },
  {
   "cell_type": "code",
   "execution_count": 10,
   "metadata": {},
   "outputs": [],
   "source": [
    "# create a list of paths to all results\n",
    "\n",
    "data_methods = [\n",
    "    dirname for dirname in\n",
    "    os.listdir(sampling_dir)\n",
    "    if os.path.isdir(os.path.join(sampling_dir, dirname))\n",
    "]\n",
    "\n",
    "rus_methods = [os.path.join(sampling_dir, dirname) for dirname in data_methods if 'ros' not in dirname]\n",
    "rus_d2_methods = [dirname for dirname in rus_methods if 'd2' in dirname]\n",
    "rus_d4_methods = [dirname for dirname in rus_methods if 'd4' in dirname]\n",
    "\n",
    "baseline_d2_method = ['/Users/jujohnson/git/DDOS-Classification/combined-experiments/baselines/tests/d2_w32']\n",
    "baseline_d4_method = ['/Users/jujohnson/git/DDOS-Classification/combined-experiments/baselines/tests/d4_w32']"
   ]
  },
  {
   "cell_type": "code",
   "execution_count": 11,
   "metadata": {},
   "outputs": [
    {
     "name": "stdout",
     "output_type": "stream",
     "text": [
      "rus_0pt00203_d2\n",
      "rus_4_d2\n",
      "rus_0pt4044_d2\n",
      "rus_0pt2_d2\n",
      "rus_0pt0183_d2\n",
      "rus_0pt00087_d2\n",
      "rus_0pt00135_d2\n",
      "rus_0pt00051_d2\n",
      "rus_0pt2689_d2\n",
      "rus_0pt8109_d2\n",
      "rus_8_d2\n",
      "rus_2_d2\n",
      "rus_0pt0047_d2\n",
      "rus_0pt00022_d2\n",
      "rus_0pt0386_d2\n",
      "rus_0pt0081_d2\n",
      "rus_0pt00305_d2\n",
      "d2_w32\n",
      "d4_w32\n"
     ]
    },
    {
     "data": {
      "text/html": [
       "<div>\n",
       "<style scoped>\n",
       "    .dataframe tbody tr th:only-of-type {\n",
       "        vertical-align: middle;\n",
       "    }\n",
       "\n",
       "    .dataframe tbody tr th {\n",
       "        vertical-align: top;\n",
       "    }\n",
       "\n",
       "    .dataframe thead th {\n",
       "        text-align: right;\n",
       "    }\n",
       "</style>\n",
       "<table border=\"1\" class=\"dataframe\">\n",
       "  <thead>\n",
       "    <tr style=\"text-align: right;\">\n",
       "      <th></th>\n",
       "      <th>minority_size</th>\n",
       "      <th>tp</th>\n",
       "      <th>fp</th>\n",
       "      <th>tn</th>\n",
       "      <th>fn</th>\n",
       "      <th>tpr</th>\n",
       "      <th>tnr</th>\n",
       "      <th>roc_auc</th>\n",
       "      <th>geometric_mean</th>\n",
       "      <th>arithmetic_mean</th>\n",
       "      <th>f1_score</th>\n",
       "      <th>precision</th>\n",
       "      <th>layers</th>\n",
       "      <th>method</th>\n",
       "      <th>method_name</th>\n",
       "    </tr>\n",
       "  </thead>\n",
       "  <tbody>\n",
       "    <tr>\n",
       "      <th>552</th>\n",
       "      <td>0.002028</td>\n",
       "      <td>1326</td>\n",
       "      <td>647194</td>\n",
       "      <td>6851</td>\n",
       "      <td>3</td>\n",
       "      <td>0.997743</td>\n",
       "      <td>0.010475</td>\n",
       "      <td>0.992149</td>\n",
       "      <td>0.102231</td>\n",
       "      <td>0.504109</td>\n",
       "      <td>0.004081</td>\n",
       "      <td>0.002045</td>\n",
       "      <td>4</td>\n",
       "      <td>baseline</td>\n",
       "      <td>d4_w32</td>\n",
       "    </tr>\n",
       "    <tr>\n",
       "      <th>553</th>\n",
       "      <td>0.002028</td>\n",
       "      <td>1323</td>\n",
       "      <td>636240</td>\n",
       "      <td>17805</td>\n",
       "      <td>6</td>\n",
       "      <td>0.995485</td>\n",
       "      <td>0.027223</td>\n",
       "      <td>0.991550</td>\n",
       "      <td>0.164621</td>\n",
       "      <td>0.511354</td>\n",
       "      <td>0.004142</td>\n",
       "      <td>0.002075</td>\n",
       "      <td>4</td>\n",
       "      <td>baseline</td>\n",
       "      <td>d4_w32</td>\n",
       "    </tr>\n",
       "    <tr>\n",
       "      <th>554</th>\n",
       "      <td>0.002028</td>\n",
       "      <td>1328</td>\n",
       "      <td>650343</td>\n",
       "      <td>3702</td>\n",
       "      <td>1</td>\n",
       "      <td>0.999248</td>\n",
       "      <td>0.005660</td>\n",
       "      <td>0.992382</td>\n",
       "      <td>0.075206</td>\n",
       "      <td>0.502454</td>\n",
       "      <td>0.004067</td>\n",
       "      <td>0.002038</td>\n",
       "      <td>4</td>\n",
       "      <td>baseline</td>\n",
       "      <td>d4_w32</td>\n",
       "    </tr>\n",
       "    <tr>\n",
       "      <th>555</th>\n",
       "      <td>0.002028</td>\n",
       "      <td>1325</td>\n",
       "      <td>644456</td>\n",
       "      <td>9589</td>\n",
       "      <td>4</td>\n",
       "      <td>0.996990</td>\n",
       "      <td>0.014661</td>\n",
       "      <td>0.988721</td>\n",
       "      <td>0.120901</td>\n",
       "      <td>0.505826</td>\n",
       "      <td>0.004095</td>\n",
       "      <td>0.002052</td>\n",
       "      <td>4</td>\n",
       "      <td>baseline</td>\n",
       "      <td>d4_w32</td>\n",
       "    </tr>\n",
       "    <tr>\n",
       "      <th>556</th>\n",
       "      <td>0.002028</td>\n",
       "      <td>1329</td>\n",
       "      <td>652231</td>\n",
       "      <td>1814</td>\n",
       "      <td>0</td>\n",
       "      <td>1.000000</td>\n",
       "      <td>0.002774</td>\n",
       "      <td>0.992403</td>\n",
       "      <td>0.052664</td>\n",
       "      <td>0.501387</td>\n",
       "      <td>0.004059</td>\n",
       "      <td>0.002033</td>\n",
       "      <td>4</td>\n",
       "      <td>baseline</td>\n",
       "      <td>d4_w32</td>\n",
       "    </tr>\n",
       "  </tbody>\n",
       "</table>\n",
       "</div>"
      ],
      "text/plain": [
       "     minority_size    tp      fp     tn  fn       tpr       tnr   roc_auc  \\\n",
       "552       0.002028  1326  647194   6851   3  0.997743  0.010475  0.992149   \n",
       "553       0.002028  1323  636240  17805   6  0.995485  0.027223  0.991550   \n",
       "554       0.002028  1328  650343   3702   1  0.999248  0.005660  0.992382   \n",
       "555       0.002028  1325  644456   9589   4  0.996990  0.014661  0.988721   \n",
       "556       0.002028  1329  652231   1814   0  1.000000  0.002774  0.992403   \n",
       "\n",
       "     geometric_mean  arithmetic_mean  f1_score  precision  layers    method  \\\n",
       "552        0.102231         0.504109  0.004081   0.002045       4  baseline   \n",
       "553        0.164621         0.511354  0.004142   0.002075       4  baseline   \n",
       "554        0.075206         0.502454  0.004067   0.002038       4  baseline   \n",
       "555        0.120901         0.505826  0.004095   0.002052       4  baseline   \n",
       "556        0.052664         0.501387  0.004059   0.002033       4  baseline   \n",
       "\n",
       "    method_name  \n",
       "552      d4_w32  \n",
       "553      d4_w32  \n",
       "554      d4_w32  \n",
       "555      d4_w32  \n",
       "556      d4_w32  "
      ]
     },
     "execution_count": 11,
     "metadata": {},
     "output_type": "execute_result"
    }
   ],
   "source": [
    "# concatenate all of the results\n",
    "\n",
    "configs = [\n",
    "    (rus_d2_methods, 2, 'rus'),\n",
    "    (rus_d4_methods, 4, 'rus'),\n",
    "    (baseline_d2_method, 2, 'baseline'),\n",
    "    (baseline_d4_method, 4, 'baseline')\n",
    "]\n",
    "\n",
    "results = []\n",
    "\n",
    "for method_list, layers, method_name in configs:\n",
    "    for method in method_list:\n",
    "        print(method.split('/')[-1])\n",
    "        path = os.path.join(method, results_file)\n",
    "        temp = pd.read_csv(path)\n",
    "        temp['layers'] = layers\n",
    "        temp['method'] = method_name\n",
    "        temp['method_name'] = method.split('/')[-1]\n",
    "        results.append(temp)\n",
    "\n",
    "\n",
    "all_results = pd.concat(results, ignore_index=True)\n",
    "all_results.tail()"
   ]
  },
  {
   "cell_type": "markdown",
   "metadata": {},
   "source": [
    "### Fix Minority Sizes"
   ]
  },
  {
   "cell_type": "code",
   "execution_count": 12,
   "metadata": {},
   "outputs": [
    {
     "data": {
      "text/plain": [
       "0.002028    60\n",
       "0.010000    30\n",
       "0.902257    30\n",
       "0.099957    30\n",
       "0.001000    30\n",
       "0.799429    30\n",
       "0.700250    30\n",
       "0.000500    30\n",
       "0.399895    30\n",
       "0.005000    30\n",
       "0.301879    30\n",
       "0.002500    30\n",
       "0.200581    30\n",
       "0.600859    30\n",
       "0.007501    30\n",
       "0.050018    30\n",
       "0.500282    30\n",
       "0.000250    17\n",
       "Name: minority_size, dtype: int64"
      ]
     },
     "execution_count": 12,
     "metadata": {},
     "output_type": "execute_result"
    }
   ],
   "source": [
    "all_results['minority_size'].value_counts()"
   ]
  },
  {
   "cell_type": "code",
   "execution_count": 13,
   "metadata": {},
   "outputs": [],
   "source": [
    "corrections = [\n",
    "    (0.002028, 0.002),\n",
    "    (0.902257, 0.9),\n",
    "    (0.099957, 0.1),\n",
    "    (0.799429, 0.8),\n",
    "    (0.700250, 0.7),\n",
    "    (0.399895, 0.4),\n",
    "    (0.301879, 0.3),\n",
    "    (0.200581, 0.2),\n",
    "    (0.600589, 0.6),\n",
    "    (0.007501, 0.0075),\n",
    "    (0.050018, 0.05),\n",
    "    (0.500282, 0.5),\n",
    "    (0.600859, 0.6),\n",
    "]"
   ]
  },
  {
   "cell_type": "code",
   "execution_count": 14,
   "metadata": {},
   "outputs": [],
   "source": [
    "all_results['minority_size'] = all_results['minority_size'].round(6)\n",
    "for old, new in corrections:\n",
    "    all_results.loc[all_results['minority_size'] == old, 'minority_size'] = new"
   ]
  },
  {
   "cell_type": "code",
   "execution_count": 15,
   "metadata": {},
   "outputs": [
    {
     "data": {
      "text/plain": [
       "0.00200    60\n",
       "0.20000    30\n",
       "0.30000    30\n",
       "0.00100    30\n",
       "0.00050    30\n",
       "0.00500    30\n",
       "0.70000    30\n",
       "0.10000    30\n",
       "0.05000    30\n",
       "0.40000    30\n",
       "0.01000    30\n",
       "0.00250    30\n",
       "0.00750    30\n",
       "0.60000    30\n",
       "0.90000    30\n",
       "0.80000    30\n",
       "0.50000    30\n",
       "0.00025    17\n",
       "Name: minority_size, dtype: int64"
      ]
     },
     "execution_count": 15,
     "metadata": {},
     "output_type": "execute_result"
    }
   ],
   "source": [
    "all_results['minority_size'].value_counts()"
   ]
  },
  {
   "cell_type": "code",
   "execution_count": 16,
   "metadata": {},
   "outputs": [],
   "source": [
    "all_results.to_csv(output_file)"
   ]
  },
  {
   "cell_type": "code",
   "execution_count": 18,
   "metadata": {},
   "outputs": [
    {
     "data": {
      "text/plain": [
       "rus_0pt00135_d2    30\n",
       "rus_0pt2_d2        30\n",
       "rus_0pt00203_d2    30\n",
       "rus_0pt00305_d2    30\n",
       "d2_w32             30\n",
       "rus_0pt0081_d2     30\n",
       "rus_0pt8109_d2     30\n",
       "rus_0pt0386_d2     30\n",
       "rus_0pt2689_d2     30\n",
       "rus_0pt00087_d2    30\n",
       "rus_0pt00051_d2    30\n",
       "rus_0pt0183_d2     30\n",
       "rus_0pt0047_d2     30\n",
       "rus_0pt4044_d2     30\n",
       "rus_2_d2           30\n",
       "d4_w32             30\n",
       "rus_0pt00022_d2    30\n",
       "rus_4_d2           30\n",
       "rus_8_d2           17\n",
       "Name: method_name, dtype: int64"
      ]
     },
     "execution_count": 18,
     "metadata": {},
     "output_type": "execute_result"
    }
   ],
   "source": [
    "all_results['method_name'].value_counts()"
   ]
  },
  {
   "cell_type": "code",
   "execution_count": null,
   "metadata": {},
   "outputs": [],
   "source": []
  }
 ],
 "metadata": {
  "kernelspec": {
   "display_name": "Python 3",
   "language": "python",
   "name": "python3"
  },
  "language_info": {
   "codemirror_mode": {
    "name": "ipython",
    "version": 3
   },
   "file_extension": ".py",
   "mimetype": "text/x-python",
   "name": "python",
   "nbconvert_exporter": "python",
   "pygments_lexer": "ipython3",
   "version": "3.6.9"
  }
 },
 "nbformat": 4,
 "nbformat_minor": 4
}
