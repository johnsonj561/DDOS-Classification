{
 "cells": [
  {
   "cell_type": "code",
   "execution_count": 4,
   "metadata": {},
   "outputs": [],
   "source": [
    "import pandas as pd\n",
    "import numpy as np\n",
    "import sys\n",
    "import os\n",
    "import math\n",
    "from sklearn.model_selection import train_test_split\n",
    "\n",
    "sys.path.append(os.environ['CMS_ROOT'])\n",
    "\n",
    "pd.set_option('display.max_columns', 150)\n",
    "pd.set_option('display.max_rows', 150)"
   ]
  },
  {
   "cell_type": "markdown",
   "metadata": {},
   "source": [
    "### Definitions"
   ]
  },
  {
   "cell_type": "code",
   "execution_count": 5,
   "metadata": {},
   "outputs": [],
   "source": [
    "# shared data (raw)\n",
    "# shared_medicare_dir = '/home/groups/fau-bigdata-datasets/medicare/combined'\n",
    "shared_medicare_dir = '/Users/jujohnson/cms-data/aggregated'\n",
    "csv_file = '20190814_NPI-level_2013_to_2017_Medicare_COMBINED_aggregated_with_LEIE_one-hot_encoding.csv'"
   ]
  },
  {
   "cell_type": "code",
   "execution_count": 6,
   "metadata": {},
   "outputs": [],
   "source": [
    "hdf5_file = '../data/combined-minmax-scaled.hdf5'\n",
    "\n",
    "raw_key = 'raw'\n",
    "train_key = 'train_normalized'\n",
    "test_key = 'test_normalized'"
   ]
  },
  {
   "cell_type": "markdown",
   "metadata": {},
   "source": [
    "### Load Training Data"
   ]
  },
  {
   "cell_type": "code",
   "execution_count": 7,
   "metadata": {},
   "outputs": [],
   "source": [
    "data = pd.read_hdf(hdf5_file, train_key)"
   ]
  },
  {
   "cell_type": "code",
   "execution_count": 8,
   "metadata": {},
   "outputs": [
    {
     "name": "stdout",
     "output_type": "stream",
     "text": [
      "5317 2616175\n"
     ]
    }
   ],
   "source": [
    "pos_count = len(data.loc[data['class'] == 1])\n",
    "neg_count = len(data.loc[data['class'] == 0])\n",
    "print(pos_count, neg_count)\n",
    "total = pos_count + neg_count"
   ]
  },
  {
   "cell_type": "code",
   "execution_count": 9,
   "metadata": {},
   "outputs": [
    {
     "name": "stdout",
     "output_type": "stream",
     "text": [
      "Minority ratio:\n",
      " 0.202823430321359\n"
     ]
    }
   ],
   "source": [
    "print('Minority ratio:\\n', pos_count / (total) * 100)"
   ]
  },
  {
   "cell_type": "markdown",
   "metadata": {},
   "source": [
    "### RUS Rates"
   ]
  },
  {
   "cell_type": "code",
   "execution_count": 10,
   "metadata": {},
   "outputs": [],
   "source": [
    "positive_ratios = [0.01, 0.025, 0.05, 0.1, 0.25, 0.5, 0.75, 1, 5, 10, 20, 30, 40, 50, 60, 70, 80, 90]"
   ]
  },
  {
   "cell_type": "code",
   "execution_count": 11,
   "metadata": {},
   "outputs": [],
   "source": [
    "pos_count = len(data.loc[data['class'] == 1])\n",
    "neg_count = len(data.loc[data['class'] == 0])\n",
    "\n",
    "def get_rus_rate(pos_ratio):\n",
    "    return (pos_count * (1 - pos_ratio)) / (pos_ratio * neg_count)"
   ]
  },
  {
   "cell_type": "code",
   "execution_count": 15,
   "metadata": {},
   "outputs": [
    {
     "data": {
      "text/plain": [
       "[(0.01, 20.3215316253691),\n",
       " (0.025, 8.127393236308732),\n",
       " (0.05, 4.062680439955279),\n",
       " (0.1, 2.0303240417785506),\n",
       " (0.25, 0.8109102028725144),\n",
       " (0.5, 0.4044389232371688),\n",
       " (0.75, 0.2689484966920536),\n",
       " (1, 0.201203283419496),\n",
       " (5, 0.03861477156535782),\n",
       " (10, 0.018291207583590548),\n",
       " (20, 0.00812942559270691),\n",
       " (30, 0.00474216492907903),\n",
       " (40, 0.003048534597265091),\n",
       " (50, 0.0020323563981767276),\n",
       " (60, 0.0013549042654511518),\n",
       " (70, 0.0008710098849328833),\n",
       " (80, 0.0005080890995441818),\n",
       " (90, 0.0002258173775751919)]"
      ]
     },
     "execution_count": 15,
     "metadata": {},
     "output_type": "execute_result"
    }
   ],
   "source": [
    "rus_rates = [get_rus_rate(ratio / 100) for ratio in positive_ratios]\n",
    "list(zip(positive_ratios,rus_rates))"
   ]
  },
  {
   "cell_type": "markdown",
   "metadata": {},
   "source": [
    "### ROS Rates"
   ]
  },
  {
   "cell_type": "code",
   "execution_count": 16,
   "metadata": {},
   "outputs": [],
   "source": [
    "positive_ratios = [0.1, 0.5, 1, 20, 40, 50, 60]"
   ]
  },
  {
   "cell_type": "code",
   "execution_count": 17,
   "metadata": {},
   "outputs": [],
   "source": [
    "pos_count = len(data.loc[data['class'] == 1])\n",
    "neg_count = len(data.loc[data['class'] == 0])\n",
    "\n",
    "def get_ros_rate(pos_ratio):\n",
    "    return (pos_ratio * neg_count) / (pos_count * (1 - pos_ratio))"
   ]
  },
  {
   "cell_type": "code",
   "execution_count": 18,
   "metadata": {},
   "outputs": [
    {
     "data": {
      "text/plain": [
       "[0.4925322162485977,\n",
       " 2.4725612262932115,\n",
       " 4.9700978185085765,\n",
       " 123.00992100808726,\n",
       " 328.02645602156605,\n",
       " 492.03968403234904,\n",
       " 738.0595260485236]"
      ]
     },
     "execution_count": 18,
     "metadata": {},
     "output_type": "execute_result"
    }
   ],
   "source": [
    "ros_rates = [get_ros_rate(ratio / 100) for ratio in positive_ratios]\n",
    "ros_rates"
   ]
  },
  {
   "cell_type": "markdown",
   "metadata": {},
   "source": [
    "### ROS-RUS Rates"
   ]
  },
  {
   "cell_type": "code",
   "execution_count": 19,
   "metadata": {},
   "outputs": [],
   "source": [
    "negative_ratios = [0.5, 0.25, 0.1]\n",
    "\n",
    "pos_count = len(data.loc[data['class'] == 1])\n",
    "ros_rates = []\n",
    "\n",
    "for neg_ratio in negative_ratios:\n",
    "    neg_count = len(data.loc[data['class'] == 0]) * neg_ratio\n",
    "    ros_rates.append(get_ros_rate(0.5))"
   ]
  },
  {
   "cell_type": "code",
   "execution_count": 20,
   "metadata": {},
   "outputs": [
    {
     "data": {
      "text/plain": [
       "[246.01984201617452, 123.00992100808726, 49.20396840323491]"
      ]
     },
     "execution_count": 20,
     "metadata": {},
     "output_type": "execute_result"
    }
   ],
   "source": [
    "ros_rates"
   ]
  }
 ],
 "metadata": {
  "kernelspec": {
   "display_name": "Python 3",
   "language": "python",
   "name": "python3"
  },
  "language_info": {
   "codemirror_mode": {
    "name": "ipython",
    "version": 3
   },
   "file_extension": ".py",
   "mimetype": "text/x-python",
   "name": "python",
   "nbconvert_exporter": "python",
   "pygments_lexer": "ipython3",
   "version": "3.6.9"
  }
 },
 "nbformat": 4,
 "nbformat_minor": 4
}
