{
 "cells": [
  {
   "cell_type": "code",
   "execution_count": 1,
   "metadata": {},
   "outputs": [],
   "source": [
    "import pandas as pd\n",
    "import numpy as np\n",
    "import os\n",
    "import sys\n",
    "from sklearn.model_selection import train_test_split\n",
    "\n",
    "sys.path.append(os.environ['CMS_ROOT'])\n",
    "\n",
    "from cms_modules.utils import get_imbalance_description\n",
    "\n",
    "\n",
    "pd.set_option('display.max.columns', 150)\n",
    "pd.set_option('display.max.rows', 150)"
   ]
  },
  {
   "cell_type": "code",
   "execution_count": 2,
   "metadata": {},
   "outputs": [
    {
     "name": "stdout",
     "output_type": "stream",
     "text": [
      "20190208_POST_onehot.csv\n",
      "20190208_Slowloris_onehot.csv\n",
      "20190216_POST_onehot.csv\n",
      "20190216_SlowlorisBig_onehot.csv\n",
      "20190430_SlowlorisBig_POST_Combined_all.csv\n",
      "combined-minmax-scaled.hdf5\n",
      "\u001b[34mdocs\u001b[m\u001b[m/\n",
      "\u001b[34mnotebooks\u001b[m\u001b[m/\n",
      "\u001b[34mtawfiq-results\u001b[m\u001b[m/\n"
     ]
    }
   ],
   "source": [
    "%ls /Users/jujohnson/ddos-data/"
   ]
  },
  {
   "cell_type": "code",
   "execution_count": 3,
   "metadata": {},
   "outputs": [],
   "source": [
    "post = pd.read_csv('/Users/jujohnson/ddos-data/20190216_POST_onehot.csv')\n",
    "slowloris = pd.read_csv('/Users/jujohnson/ddos-data/20190216_SlowlorisBig_onehot.csv')"
   ]
  },
  {
   "cell_type": "code",
   "execution_count": 4,
   "metadata": {},
   "outputs": [
    {
     "data": {
      "text/plain": [
       "(1697377, 78)"
      ]
     },
     "execution_count": 4,
     "metadata": {},
     "output_type": "execute_result"
    }
   ],
   "source": [
    "post.shape"
   ]
  },
  {
   "cell_type": "code",
   "execution_count": 5,
   "metadata": {},
   "outputs": [
    {
     "data": {
      "text/plain": [
       "(1579489, 78)"
      ]
     },
     "execution_count": 5,
     "metadata": {},
     "output_type": "execute_result"
    }
   ],
   "source": [
    "slowloris.shape"
   ]
  },
  {
   "cell_type": "code",
   "execution_count": 14,
   "metadata": {},
   "outputs": [
    {
     "data": {
      "text/plain": [
       "(2391, 0.14086440431324332)"
      ]
     },
     "execution_count": 14,
     "metadata": {},
     "output_type": "execute_result"
    }
   ],
   "source": [
    "post_pos = (post['class'] == 'attack').sum()\n",
    "post_pos, post_pos / len(post) * 100"
   ]
  },
  {
   "cell_type": "code",
   "execution_count": 15,
   "metadata": {},
   "outputs": [
    {
     "data": {
      "text/plain": [
       "(4255, 0.26939092326695535)"
      ]
     },
     "execution_count": 15,
     "metadata": {},
     "output_type": "execute_result"
    }
   ],
   "source": [
    "slow_pos = (slowloris['class'] == 'attack').sum()\n",
    "slow_pos, slow_pos / len(slowloris) * 100"
   ]
  },
  {
   "cell_type": "code",
   "execution_count": null,
   "metadata": {},
   "outputs": [],
   "source": []
  },
  {
   "cell_type": "code",
   "execution_count": 6,
   "metadata": {},
   "outputs": [],
   "source": [
    "data_dir = '/Users/jujohnson/ddos-data/'\n",
    "combined_path = '20190430_SlowlorisBig_POST_Combined_all.csv'\n",
    "\n",
    "hdf5_file = '../combined-minmax-scaled.hdf5'\n",
    "hdf5_path = os.path.join(data_dir, hdf5_file)\n",
    "\n",
    "raw_key = 'raw'\n",
    "train_key = 'train_normalized'\n",
    "test_key = 'test_normalized'"
   ]
  },
  {
   "cell_type": "code",
   "execution_count": 7,
   "metadata": {},
   "outputs": [],
   "source": [
    "if not os.path.isfile(hdf5_path):\n",
    "    data = pd.read_csv(os.path.join(data_dir, combined_path))\n",
    "    data.to_hdf(hdf5_path, raw_key)\n",
    "else:\n",
    "    data = pd.read_hdf(hdf5_path, raw_key)"
   ]
  },
  {
   "cell_type": "code",
   "execution_count": 8,
   "metadata": {},
   "outputs": [
    {
     "data": {
      "text/plain": [
       "(3276866, 78)"
      ]
     },
     "execution_count": 8,
     "metadata": {},
     "output_type": "execute_result"
    }
   ],
   "source": [
    "data.shape"
   ]
  },
  {
   "cell_type": "code",
   "execution_count": 16,
   "metadata": {},
   "outputs": [
    {
     "data": {
      "text/plain": [
       "(6646, 0.20281573918494072)"
      ]
     },
     "execution_count": 16,
     "metadata": {},
     "output_type": "execute_result"
    }
   ],
   "source": [
    "data_pos = (data['class'] == 'attack').sum()\n",
    "data_pos, data_pos / len(data) * 100"
   ]
  },
  {
   "cell_type": "code",
   "execution_count": 26,
   "metadata": {},
   "outputs": [],
   "source": [
    "columns = data.columns.values\n",
    "columns = [c for c in columns if 'flags_onehot' not in c]\n",
    "columns.append('flags')\n",
    "columns = [c for c in columns if 'initialFlags_onehot' not in c]\n",
    "columns.append('initialFlags')\n",
    "columns = [c for c in columns if 'protocol_onehot' not in c]\n",
    "columns.append('protocol')"
   ]
  },
  {
   "cell_type": "code",
   "execution_count": 27,
   "metadata": {},
   "outputs": [
    {
     "data": {
      "text/plain": [
       "['packets',\n",
       " 'bytes',\n",
       " 'durmsec',\n",
       " 'payloadInBytes',\n",
       " 'payloadRate',\n",
       " 'packetsPerSec',\n",
       " 'bytesPerSec',\n",
       " 'bytesPerPacket',\n",
       " 'class',\n",
       " 'flags',\n",
       " 'initialFlags',\n",
       " 'protocol']"
      ]
     },
     "execution_count": 27,
     "metadata": {},
     "output_type": "execute_result"
    }
   ],
   "source": [
    "columns"
   ]
  },
  {
   "cell_type": "code",
   "execution_count": null,
   "metadata": {},
   "outputs": [],
   "source": []
  }
 ],
 "metadata": {
  "kernelspec": {
   "display_name": "Python 3",
   "language": "python",
   "name": "python3"
  },
  "language_info": {
   "codemirror_mode": {
    "name": "ipython",
    "version": 3
   },
   "file_extension": ".py",
   "mimetype": "text/x-python",
   "name": "python",
   "nbconvert_exporter": "python",
   "pygments_lexer": "ipython3",
   "version": "3.6.9"
  }
 },
 "nbformat": 4,
 "nbformat_minor": 4
}
